{
  "nbformat": 4,
  "nbformat_minor": 0,
  "metadata": {
    "colab": {
      "provenance": [],
      "authorship_tag": "ABX9TyN+UuZEx3kw+cyw1KJgHhk2",
      "include_colab_link": true
    },
    "kernelspec": {
      "name": "python3",
      "display_name": "Python 3"
    },
    "language_info": {
      "name": "python"
    }
  },
  "cells": [
    {
      "cell_type": "markdown",
      "metadata": {
        "id": "view-in-github",
        "colab_type": "text"
      },
      "source": [
        "<a href=\"https://colab.research.google.com/github/JuanPabloFerreras/ProyectoFinalDS/blob/main/Desaf%C3%ADo_FeatureSelection_Juan_Ferreras.ipynb\" target=\"_parent\"><img src=\"https://colab.research.google.com/assets/colab-badge.svg\" alt=\"Open In Colab\"/></a>"
      ]
    },
    {
      "cell_type": "markdown",
      "source": [
        "#Ingeniería de atributos y selección de variables\n",
        "\n",
        "\n",
        "---\n",
        "\n"
      ],
      "metadata": {
        "id": "Vw2ROxdN_9lI"
      }
    },
    {
      "cell_type": "markdown",
      "source": [
        "![reparacion-de-la-casa.png](data:image/png;base64,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)"
      ],
      "metadata": {
        "id": "QVP8oWa4AFdW"
      }
    },
    {
      "cell_type": "markdown",
      "source": [
        "En construcción..."
      ],
      "metadata": {
        "id": "NJ9LQlskAyiU"
      }
    },
    {
      "cell_type": "markdown",
      "source": [],
      "metadata": {
        "id": "HdcI02LGAufu"
      }
    }
  ]
}