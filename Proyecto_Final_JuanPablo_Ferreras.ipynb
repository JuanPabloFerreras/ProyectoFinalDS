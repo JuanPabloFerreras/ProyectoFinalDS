{
  "nbformat": 4,
  "nbformat_minor": 0,
  "metadata": {
    "colab": {
      "provenance": [],
      "toc_visible": true,
      "authorship_tag": "ABX9TyPglnbDaB86/pe4+zhRQ1lX",
      "include_colab_link": true
    },
    "kernelspec": {
      "name": "python3",
      "display_name": "Python 3"
    },
    "language_info": {
      "name": "python"
    }
  },
  "cells": [
    {
      "cell_type": "markdown",
      "metadata": {
        "id": "view-in-github",
        "colab_type": "text"
      },
      "source": [
        "<a href=\"https://colab.research.google.com/github/JuanPabloFerreras/ProyectoFinalDS/blob/main/Proyecto_Final_JuanPablo_Ferreras.ipynb\" target=\"_parent\"><img src=\"https://colab.research.google.com/assets/colab-badge.svg\" alt=\"Open In Colab\"/></a>"
      ]
    },
    {
      "cell_type": "markdown",
      "source": [
        "# **ESPERANZA DE VIDA**\n",
        "\n",
        "---\n",
        "### PROYECTO FINAL DATA SCIENTIST\n",
        "### JUAN PABLO FERRERAS"
      ],
      "metadata": {
        "id": "v7ytkml0c84n"
      }
    },
    {
      "cell_type": "markdown",
      "source": [
        "## Presentación en diapositivas\n",
        "Acceda a traves de este link:\n",
        "https://docs.google.com/presentation/d/1BCpOM1AHE9G7q_8T4jNevcWHABw66Dyj1ZsCW2uMtns/edit?usp=sharing\n",
        "\n",
        "---\n",
        "\n"
      ],
      "metadata": {
        "id": "bbrrftCQAf91"
      }
    },
    {
      "cell_type": "markdown",
      "source": [
        "# 1. Abstracto con motivación y audiencia\n",
        "\n"
      ],
      "metadata": {
        "id": "Jqt0z6bIdVP0"
      }
    },
    {
      "cell_type": "markdown",
      "source": [
        "### Abstracto\n",
        "\n",
        "El objetivo de este proyecto es proporcionar información sobre las variaciones de la esperanza de vida* a nivel mundial por año en función a variables globales como: mortalidad, consumo de alcohol, ingreso per cápita,  cantidad de habitantes (población), estado de desarrollo económico  y otros atributos presentes en el dataset.\n",
        "\n",
        "Con el fin de lograr el objetivo, se realizará un análisis exploratorio de datos para identificar patrones y relaciones entre variables relevantes y se generarán recomendaciones basadas en los insights obtenidos.\n",
        "\n",
        "(*) Esperanza de vida, se define como el número medio de años que esperaría seguir viviendo una persona de una determinada edad, en caso de mantenerse el patrón de mortalidad por edad observado en el momento de realizar la estimación."
      ],
      "metadata": {
        "id": "9rypffj063Lc"
      }
    },
    {
      "cell_type": "markdown",
      "source": [
        "### Audiencia\n",
        "\n",
        "La audiencia principal de este proyecto es público en general, prensa, autoridades mundiales, organizaciones mundiales como OMS y otros interesados en variables de esperanza de vida mundiales.\n",
        "\n",
        "La información y recomendaciones pueden ayudar a aquellos gobiernos de distintas jerarquías para aplicar mejores políticas en relación a la salud pública de sus habitantes.\n",
        "\n",
        "El contenido está diseñado para ser comprensible y útil tanto para personas sin experiencia en análisis de datos como para aquellos familiarizados con conceptos básicos de estadísticas y análisis exploratorio de datos.\n"
      ],
      "metadata": {
        "id": "oTQOea1Z655D"
      }
    },
    {
      "cell_type": "markdown",
      "source": [
        "\n",
        "\n",
        "---\n",
        "\n"
      ],
      "metadata": {
        "id": "RGmq6DKmgX-y"
      }
    },
    {
      "cell_type": "markdown",
      "source": [
        "# 2. Preguntas/Problema que buscamos resolver"
      ],
      "metadata": {
        "id": "35VYHylpdyM2"
      }
    },
    {
      "cell_type": "markdown",
      "source": [
        "El conjunto de datos pretende responder a las siguientes preguntas clave:"
      ],
      "metadata": {
        "id": "Y83Zc5ECfJ8p"
      }
    },
    {
      "cell_type": "markdown",
      "source": [
        "* ¿Afectan realmente los diversos factores de predicción elegidos inicialmente a la esperanza de vida? ¿Cuáles son las variables predictivas que realmente afectan la esperanza de vida?\n",
        "*¿Debería un país con un valor de esperanza de vida más bajo (<65) aumentar su gasto en atención sanitaria para mejorar su esperanza de vida media?\n",
        "*¿Cómo afectan las tasas de mortalidad infantil y adulta a la esperanza de vida?\n",
        "*¿La esperanza de vida tiene una correlación positiva o negativa con los hábitos alimentarios, el estilo de vida, el ejercicio, el tabaquismo, el consumo de alcohol, etc.?\n",
        "*¿Cuál es el impacto de la escolarización en la esperanza de vida de los seres humanos?\n",
        "*¿La esperanza de vida tiene relación positiva o negativa con el consumo de alcohol?\n",
        "*¿Los países densamente poblados tienden a tener una esperanza de vida más baja?\n",
        "*¿Cuál es el impacto de la cobertura de vacunación en la esperanza de vida?"
      ],
      "metadata": {
        "id": "NvZafx_k7GqP"
      }
    },
    {
      "cell_type": "markdown",
      "source": [
        "\n",
        "\n",
        "---\n",
        "\n"
      ],
      "metadata": {
        "id": "XlKMhSapgaM5"
      }
    },
    {
      "cell_type": "markdown",
      "source": [
        "# 3. Breve Análisis Exploratorio de Datos (EDA)"
      ],
      "metadata": {
        "id": "9KNtfbYZd6-Z"
      }
    },
    {
      "cell_type": "markdown",
      "source": [
        "\n",
        "\n",
        "---\n",
        "\n"
      ],
      "metadata": {
        "id": "ylrkLuDugcfb"
      }
    },
    {
      "cell_type": "markdown",
      "source": [
        "# 4. Ingeniería de atributos"
      ],
      "metadata": {
        "id": "_rb4TNmid_pJ"
      }
    },
    {
      "cell_type": "markdown",
      "source": [
        "\n",
        "\n",
        "---\n",
        "\n"
      ],
      "metadata": {
        "id": "TbZM4o02gdjC"
      }
    },
    {
      "cell_type": "markdown",
      "source": [
        "# 5. Entrenamiento y Testeo"
      ],
      "metadata": {
        "id": "TOtudHSweRo0"
      }
    },
    {
      "cell_type": "markdown",
      "source": [
        "\n",
        "\n",
        "---\n",
        "\n"
      ],
      "metadata": {
        "id": "Tt0c8Tm2gfOw"
      }
    },
    {
      "cell_type": "markdown",
      "source": [
        "# 6. Optimización"
      ],
      "metadata": {
        "id": "HKb2jj5VeTw5"
      }
    },
    {
      "cell_type": "markdown",
      "source": [
        "\n",
        "\n",
        "---\n",
        "\n"
      ],
      "metadata": {
        "id": "9K0_USUsggtz"
      }
    },
    {
      "cell_type": "markdown",
      "source": [
        "# 7. Selección de modelos"
      ],
      "metadata": {
        "id": "r6tjqrexeYtv"
      }
    },
    {
      "cell_type": "markdown",
      "source": [
        "\n",
        "\n",
        "---\n",
        "\n"
      ],
      "metadata": {
        "id": "DTTvocdrgkp3"
      }
    }
  ]
}